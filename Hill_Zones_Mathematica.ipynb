{
 "cells": [
  {
   "cell_type": "code",
   "execution_count": 1,
   "id": "dd1e41cf",
   "metadata": {},
   "outputs": [],
   "source": [
    "import pandas as pd\n",
    "import matplotlib.pyplot as plt\n",
    "from mpl_toolkits.axes_grid1 import make_axes_locatable\n",
    "import seaborn as sns\n",
    "import numpy as np\n",
    "import os\n",
    "import glob"
   ]
  },
  {
   "cell_type": "code",
   "execution_count": 2,
   "id": "94d4bfa0",
   "metadata": {},
   "outputs": [],
   "source": [
    "from matplotlib import rc\n",
    "rc('font',**{'family':'sans-serif','sans-serif':['Helvetica']})\n",
    "## for Palatino and other serif fonts use:\n",
    "#rc('font',**{'family':'serif','serif':['Palatino']})\n",
    "rc('text', usetex=True)"
   ]
  },
  {
   "cell_type": "code",
   "execution_count": 3,
   "id": "af7df247",
   "metadata": {},
   "outputs": [],
   "source": [
    "A_min = -4.0;\n",
    "A_max = 4.0;\n",
    "A_step = 0.01;\n",
    "\n",
    "B_min = -4.0;\n",
    "B_max = 4.0;\n",
    "B_step = 0.01;\n",
    "\n",
    "\n",
    "A_values = np.arange(A_min, A_max+A_step, A_step);\n",
    "B_values = np.arange(B_min, B_max+B_step, B_step);\n",
    "\n",
    "#A_values = A_values[:-1]"
   ]
  },
  {
   "cell_type": "code",
   "execution_count": 4,
   "id": "5bf42780",
   "metadata": {},
   "outputs": [],
   "source": [
    "B_grid, A_grid = np.meshgrid(B_values, A_values)"
   ]
  },
  {
   "cell_type": "code",
   "execution_count": 5,
   "id": "be9dd07a",
   "metadata": {},
   "outputs": [],
   "source": [
    "path = \"D:/Life and Science/Summer 2024/Heun/DataSets/\"\n",
    "full_file = path + \"StabilityDiagramFull.csv\"\n",
    "\n",
    "test = pd.read_csv(full_file, header=None)"
   ]
  },
  {
   "cell_type": "code",
   "execution_count": 6,
   "id": "b440df58",
   "metadata": {},
   "outputs": [],
   "source": [
    "test = test.astype(str)\n",
    "\n",
    "test = test.applymap(lambda x: 0 if 'If' in x else x)\n",
    "\n",
    "test = test.astype(int)\n",
    "test = test.to_numpy()\n",
    "test = - test\n",
    "test = np.transpose(test)"
   ]
  },
  {
   "cell_type": "code",
   "execution_count": 7,
   "id": "8aa4b8ec",
   "metadata": {},
   "outputs": [
    {
     "data": {
      "text/plain": [
       "(801, 801)"
      ]
     },
     "execution_count": 7,
     "metadata": {},
     "output_type": "execute_result"
    }
   ],
   "source": [
    "np.shape(test)"
   ]
  },
  {
   "cell_type": "code",
   "execution_count": 8,
   "id": "a86dae1c",
   "metadata": {},
   "outputs": [],
   "source": [
    "rot_test = np.rot90(test, axes=(0,1))"
   ]
  },
  {
   "cell_type": "code",
   "execution_count": 9,
   "id": "f67f2f80",
   "metadata": {},
   "outputs": [],
   "source": [
    "left_x = np.arange(-4., 3.1, 0.1)\n",
    "right_x = np.arange(-4., 3.1, 0.1)\n",
    "\n",
    "left_boundary =  -left_x - 1\n",
    "right_boundary = right_x + 1"
   ]
  },
  {
   "cell_type": "code",
   "execution_count": 10,
   "id": "46a79958",
   "metadata": {
    "scrolled": true
   },
   "outputs": [
    {
     "data": {
      "image/png": "[encoded data removed]",
      "text/plain": [
       "<Figure size 432x288 with 1 Axes>"
      ]
     },
     "metadata": {
      "needs_background": "light"
     },
     "output_type": "display_data"
    }
   ],
   "source": [
    "#plt.title(r\"$\\epsilon=0.05$\", fontsize=16)\n",
    "plt.pcolormesh(B_grid, A_grid, rot_test, cmap=\"Blues\", rasterized=True)\n",
    "#plt.pcolormesh(B_grid, A_grid, ph_lock_areas, cmap=\"Blues\", rasterized=True)\n",
    "plt.gca().set_aspect(1.)\n",
    "plt.tick_params(axis='both', which='both', labelsize=14,\n",
    "    left=True,\n",
    "    bottom=True,\n",
    "    top=False,\n",
    "    labelleft=True,\n",
    "    labelbottom=True)\n",
    "plt.plot(left_x, left_boundary, color=\"red\", linewidth=2.0)\n",
    "plt.plot(right_x, right_boundary, color=\"red\", linewidth=2.0)\n",
    "plt.xlabel(r'$B$', fontsize=16)\n",
    "plt.ylabel(r'$A$', fontsize=16)\n",
    "plt.savefig('Hill_ICTP.pdf', bbox_inches='tight', dpi = 1200)\n",
    "plt.show()"
   ]
  }
 ],
 "metadata": {
  "kernelspec": {
   "display_name": "Python 3 (ipykernel)",
   "language": "python",
   "name": "python3"
  },
  "language_info": {
   "codemirror_mode": {
    "name": "ipython",
    "version": 3
   },
   "file_extension": ".py",
   "mimetype": "text/x-python",
   "name": "python",
   "nbconvert_exporter": "python",
   "pygments_lexer": "ipython3",
   "version": "3.9.10"
  }
 },
 "nbformat": 4,
 "nbformat_minor": 5
}
