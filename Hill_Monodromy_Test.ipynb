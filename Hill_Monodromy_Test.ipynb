{
 "cells": [
  {
   "cell_type": "code",
   "execution_count": 34,
   "id": "11aacfd1",
   "metadata": {},
   "outputs": [],
   "source": [
    "import pandas as pd\n",
    "import matplotlib.pyplot as plt\n",
    "from mpl_toolkits.axes_grid1 import make_axes_locatable\n",
    "import seaborn as sns\n",
    "import numpy as np\n",
    "from fractions import Fraction\n",
    "from itertools import product"
   ]
  },
  {
   "cell_type": "code",
   "execution_count": 35,
   "id": "ebf32364",
   "metadata": {},
   "outputs": [],
   "source": [
    "from matplotlib import rc\n",
    "rc('font',**{'family':'sans-serif','sans-serif':['Helvetica']})\n",
    "## for Palatino and other serif fonts use:\n",
    "#rc('font',**{'family':'serif','serif':['Palatino']})\n",
    "rc('text', usetex=True)"
   ]
  },
  {
   "cell_type": "code",
   "execution_count": 36,
   "id": "05b019f2",
   "metadata": {},
   "outputs": [],
   "source": [
    "def Calkin_Wilf():\n",
    "    x = Fraction(1, 1)\n",
    "    yield x\n",
    "    while True:\n",
    "        x = Fraction(1, 2*Fraction(int(x))-x+1)\n",
    "        yield x"
   ]
  },
  {
   "cell_type": "code",
   "execution_count": 37,
   "id": "c4fd5795",
   "metadata": {},
   "outputs": [],
   "source": [
    "rationals = []\n",
    "\n",
    "rational = Calkin_Wilf()\n",
    "for _ in range(60):\n",
    "    rationals.append(float(next(rational)))"
   ]
  },
  {
   "cell_type": "code",
   "execution_count": 38,
   "id": "b7c3d751",
   "metadata": {},
   "outputs": [],
   "source": [
    "rationals.append(0)"
   ]
  },
  {
   "cell_type": "code",
   "execution_count": 39,
   "id": "7ed0fd2e",
   "metadata": {},
   "outputs": [],
   "source": [
    "def check_rational(value, tol):\n",
    "    test = []\n",
    "    for rational in rationals:\n",
    "        if abs(abs(value) - rational)<tol:\n",
    "            test.append(1)\n",
    "        else:\n",
    "            test.append(0)\n",
    "    if 1 in test:\n",
    "        return 1\n",
    "    else:\n",
    "        return 0"
   ]
  },
  {
   "cell_type": "code",
   "execution_count": 27,
   "id": "82852fd6",
   "metadata": {},
   "outputs": [],
   "source": [
    "def check(value, tol, int_max):\n",
    "    integers = np.arange(0, int_max+1, 1)\n",
    "    test = []\n",
    "    for integer in integers:\n",
    "        if abs(abs(value) - integer)<tol:\n",
    "            test.append(1)\n",
    "        else:\n",
    "            test.append(0)\n",
    "    if 1 in test:\n",
    "        return 1\n",
    "    else:\n",
    "        return 0"
   ]
  },
  {
   "cell_type": "code",
   "execution_count": 64,
   "id": "7eb371d2",
   "metadata": {},
   "outputs": [],
   "source": [
    "A_min = -4.0;\n",
    "A_max = 4.0;\n",
    "A_step = 0.1;\n",
    "\n",
    "B_min = -4.0;\n",
    "B_max = 4.0;\n",
    "B_step = 0.1;\n",
    "\n",
    "A_values = np.arange(A_min, A_max+A_step, A_step);\n",
    "B_values = np.arange(B_min, B_max+B_step, B_step);\n",
    "\n",
    "#A_values = A_values[:-1]"
   ]
  },
  {
   "cell_type": "code",
   "execution_count": 65,
   "id": "96d34816",
   "metadata": {},
   "outputs": [],
   "source": [
    "A_labels = np.arange(A_min, A_max+50*A_step, 50*A_step)\n",
    "B_labels = np.arange(B_min, B_max+50*B_step, 50*B_step)"
   ]
  },
  {
   "cell_type": "code",
   "execution_count": 66,
   "id": "a446621a",
   "metadata": {},
   "outputs": [],
   "source": [
    "B_grid, A_grid = np.meshgrid(B_values, A_values)"
   ]
  },
  {
   "cell_type": "code",
   "execution_count": 73,
   "id": "cea596e0",
   "metadata": {},
   "outputs": [],
   "source": [
    "test = pd.read_csv(\"test_monodromyTr.csv\", header=None)\n",
    "test = test.to_numpy()\n",
    "test = np.transpose(test)"
   ]
  },
  {
   "cell_type": "code",
   "execution_count": 74,
   "id": "da5028ad",
   "metadata": {},
   "outputs": [],
   "source": [
    "test[np.abs(test)>2] = 1\n",
    "#test[np.abs(test)<2] = 0"
   ]
  },
  {
   "cell_type": "code",
   "execution_count": 75,
   "id": "935969e9",
   "metadata": {
    "scrolled": false
   },
   "outputs": [
    {
     "data": {
      "image/png": "[encoded data removed]",
      "text/plain": [
       "<Figure size 432x288 with 1 Axes>"
      ]
     },
     "metadata": {
      "needs_background": "light"
     },
     "output_type": "display_data"
    }
   ],
   "source": [
    "#plt.title(r\"$\\epsilon=0.05$\", fontsize=16)\n",
    "plt.pcolormesh(A_grid, B_grid, test, cmap=\"Blues\", rasterized=True)\n",
    "#plt.plot(B_values, sqrt_B_curve)\n",
    "#plt.pcolormesh(B_grid, A_grid, ph_lock_areas, cmap=\"Blues\", rasterized=True)\n",
    "plt.gca().set_aspect(1.0)\n",
    "plt.tick_params(axis='both', which='both', labelsize=14,\n",
    "    left=True,\n",
    "    bottom=True,\n",
    "    top=False,\n",
    "    labelleft=True,\n",
    "    labelbottom=True)\n",
    "plt.xlabel(r'$B$', fontsize=16)\n",
    "plt.ylabel(r'$A$', fontsize=16)\n",
    "#plt.savefig('ph_Lyaps.png', bbox_inches='tight', dpi = 1200)\n",
    "plt.show()"
   ]
  },
  {
   "cell_type": "code",
   "execution_count": null,
   "id": "40e5cec1",
   "metadata": {},
   "outputs": [],
   "source": []
  },
  {
   "cell_type": "code",
   "execution_count": null,
   "id": "04f57cb3",
   "metadata": {},
   "outputs": [],
   "source": []
  }
 ],
 "metadata": {
  "@webio": {
   "lastCommId": null,
   "lastKernelId": null
  },
  "kernelspec": {
   "display_name": "Python 3 (ipykernel)",
   "language": "python",
   "name": "python3"
  },
  "language_info": {
   "codemirror_mode": {
    "name": "ipython",
    "version": 3
   },
   "file_extension": ".py",
   "mimetype": "text/x-python",
   "name": "python",
   "nbconvert_exporter": "python",
   "pygments_lexer": "ipython3",
   "version": "3.9.10"
  }
 },
 "nbformat": 4,
 "nbformat_minor": 5
}
